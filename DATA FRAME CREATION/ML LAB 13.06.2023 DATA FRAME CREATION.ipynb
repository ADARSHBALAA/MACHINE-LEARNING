{
 "cells": [
  {
   "cell_type": "markdown",
   "id": "e466559f",
   "metadata": {},
   "source": []
  },
  {
   "cell_type": "markdown",
   "id": "ddc5ffa1",
   "metadata": {},
   "source": []
  },
  {
   "cell_type": "markdown",
   "id": "adc47d2f",
   "metadata": {},
   "source": [
    " <h1 style=\"color:red;\">DATA FRAME CREATION</h1>"
   ]
  },
  {
   "cell_type": "code",
   "execution_count": 29,
   "id": "266530a6",
   "metadata": {},
   "outputs": [],
   "source": [
    "import pandas as pd\n",
    "import numpy as np\n",
    "import warnings\n",
    "import matplotlib.pyplot as plt\n",
    "import seaborn as sns\n",
    "warnings.filterwarnings('ignore')"
   ]
  },
  {
   "cell_type": "markdown",
   "id": "dcc261a8",
   "metadata": {},
   "source": [
    "Finding Data Type"
   ]
  },
  {
   "cell_type": "code",
   "execution_count": 30,
   "id": "3d386b64",
   "metadata": {},
   "outputs": [
    {
     "name": "stdout",
     "output_type": "stream",
     "text": [
      "int64\n"
     ]
    }
   ],
   "source": [
    "my_series = pd.Series([ 2,5,4,6,8,7,9,2,45,5,8,5,5,65,8,5, ])\n",
    "print (my_series.dtype)"
   ]
  },
  {
   "cell_type": "markdown",
   "id": "8df18e89",
   "metadata": {},
   "source": [
    "Converting to List"
   ]
  },
  {
   "cell_type": "code",
   "execution_count": 31,
   "id": "4aa3bf02",
   "metadata": {},
   "outputs": [
    {
     "name": "stdout",
     "output_type": "stream",
     "text": [
      "[2, 5, 4, 6, 8, 7, 9, 2, 45, 5, 8, 5, 5, 65, 8, 5]\n"
     ]
    }
   ],
   "source": [
    "print (my_series.tolist())"
   ]
  },
  {
   "cell_type": "markdown",
   "id": "12ed4e35",
   "metadata": {},
   "source": [
    "Empty dataframe"
   ]
  },
  {
   "cell_type": "code",
   "execution_count": 32,
   "id": "ef578207",
   "metadata": {},
   "outputs": [
    {
     "name": "stdout",
     "output_type": "stream",
     "text": [
      "Empty DataFrame\n",
      "Columns: []\n",
      "Index: []\n"
     ]
    }
   ],
   "source": [
    "my_df = pd.DataFrame()\n",
    "print (my_df)"
   ]
  },
  {
   "cell_type": "markdown",
   "id": "063b536a",
   "metadata": {},
   "source": [
    "# <center> Kerala Flood 2018"
   ]
  },
  {
   "cell_type": "markdown",
   "id": "06259091",
   "metadata": {},
   "source": [
    "#### <center> DATA FRAME CREATION"
   ]
  },
  {
   "attachments": {
    "download.jpg": {
     "image/jpeg": "[encoded data removed]"
    }
   },
   "cell_type": "markdown",
   "id": "5689f1ff",
   "metadata": {},
   "source": [
    "![download.jpg](attachment:download.jpg)"
   ]
  },
  {
   "cell_type": "markdown",
   "id": "1b3f21e2",
   "metadata": {},
   "source": [
    "1. Dataframe using list of lists"
   ]
  },
  {
   "cell_type": "code",
   "execution_count": 33,
   "id": "9366af17",
   "metadata": {},
   "outputs": [
    {
     "data": {
      "text/html": [
       "<div>\n",
       "<style scoped>\n",
       "    .dataframe tbody tr th:only-of-type {\n",
       "        vertical-align: middle;\n",
       "    }\n",
       "\n",
       "    .dataframe tbody tr th {\n",
       "        vertical-align: top;\n",
       "    }\n",
       "\n",
       "    .dataframe thead th {\n",
       "        text-align: right;\n",
       "    }\n",
       "</style>\n",
       "<table border=\"1\" class=\"dataframe\">\n",
       "  <thead>\n",
       "    <tr style=\"text-align: right;\">\n",
       "      <th></th>\n",
       "      <th>Year</th>\n",
       "      <th>Min</th>\n",
       "      <th>Max</th>\n",
       "      <th>Kerala_Avg_im_mm</th>\n",
       "    </tr>\n",
       "  </thead>\n",
       "  <tbody>\n",
       "    <tr>\n",
       "      <th>0</th>\n",
       "      <td>2010</td>\n",
       "      <td>Wayanad</td>\n",
       "      <td>Ernakulam</td>\n",
       "      <td>3154</td>\n",
       "    </tr>\n",
       "    <tr>\n",
       "      <th>1</th>\n",
       "      <td>2011</td>\n",
       "      <td>Thiruvananthapuram</td>\n",
       "      <td>Kozhikkod</td>\n",
       "      <td>3009</td>\n",
       "    </tr>\n",
       "    <tr>\n",
       "      <th>2</th>\n",
       "      <td>2012</td>\n",
       "      <td>Thiruvananthapuram</td>\n",
       "      <td>Kasarkod</td>\n",
       "      <td>2180</td>\n",
       "    </tr>\n",
       "    <tr>\n",
       "      <th>3</th>\n",
       "      <td>2013</td>\n",
       "      <td>Thiruvananthapuram</td>\n",
       "      <td>Idukki</td>\n",
       "      <td>3222</td>\n",
       "    </tr>\n",
       "    <tr>\n",
       "      <th>4</th>\n",
       "      <td>2014</td>\n",
       "      <td>Thiruvananthapuram</td>\n",
       "      <td>Idukki</td>\n",
       "      <td>3028</td>\n",
       "    </tr>\n",
       "    <tr>\n",
       "      <th>5</th>\n",
       "      <td>2015</td>\n",
       "      <td>Palakkad</td>\n",
       "      <td>Kottayam</td>\n",
       "      <td>2609</td>\n",
       "    </tr>\n",
       "    <tr>\n",
       "      <th>6</th>\n",
       "      <td>2016</td>\n",
       "      <td>Thiruvananthapuram</td>\n",
       "      <td>Kasarkod</td>\n",
       "      <td>1885</td>\n",
       "    </tr>\n",
       "    <tr>\n",
       "      <th>7</th>\n",
       "      <td>2017</td>\n",
       "      <td>Thiruvananthapuram</td>\n",
       "      <td>Pathanamthitta</td>\n",
       "      <td>2680</td>\n",
       "    </tr>\n",
       "  </tbody>\n",
       "</table>\n",
       "</div>"
      ],
      "text/plain": [
       "   Year                 Min               Max  Kerala_Avg_im_mm \n",
       "0   2010             Wayanad        Ernakulam               3154\n",
       "1   2011  Thiruvananthapuram        Kozhikkod               3009\n",
       "2   2012  Thiruvananthapuram         Kasarkod               2180\n",
       "3   2013  Thiruvananthapuram          Idukki                3222\n",
       "4   2014  Thiruvananthapuram          Idukki                3028\n",
       "5   2015           Palakkad         Kottayam                2609\n",
       "6   2016  Thiruvananthapuram         Kasarkod               1885\n",
       "7   2017  Thiruvananthapuram  Pathanamthitta                2680"
      ]
     },
     "execution_count": 33,
     "metadata": {},
     "output_type": "execute_result"
    }
   ],
   "source": [
    "scores = [[2010, 'Wayanad', 'Ernakulam',3154],\n",
    "          [2011,'Thiruvananthapuram','Kozhikkod',3009 ],\n",
    "          [2012,'Thiruvananthapuram','Kasarkod',2180 ],\n",
    "          [2013,'Thiruvananthapuram','Idukki ',3222 ],\n",
    "           [2014,'Thiruvananthapuram','Idukki ',3028 ],\n",
    "           [2015,'Palakkad ','Kottayam ',2609 ],\n",
    "           [2016,'Thiruvananthapuram','Kasarkod',1885 ],\n",
    "           [2017,'Thiruvananthapuram','Pathanamthitta ',2680 ],\n",
    "          ]\n",
    "my_df = pd.DataFrame(scores, columns = ['Year ', 'Min ','Max','Kerala_Avg_im_mm ' ])\n",
    "my_df"
   ]
  },
  {
   "cell_type": "markdown",
   "id": "fdaa5d4e",
   "metadata": {},
   "source": [
    "2. Dataframe using dictionaries"
   ]
  },
  {
   "cell_type": "code",
   "execution_count": 34,
   "id": "1240e77b",
   "metadata": {},
   "outputs": [
    {
     "data": {
      "text/html": [
       "<div>\n",
       "<style scoped>\n",
       "    .dataframe tbody tr th:only-of-type {\n",
       "        vertical-align: middle;\n",
       "    }\n",
       "\n",
       "    .dataframe tbody tr th {\n",
       "        vertical-align: top;\n",
       "    }\n",
       "\n",
       "    .dataframe thead th {\n",
       "        text-align: right;\n",
       "    }\n",
       "</style>\n",
       "<table border=\"1\" class=\"dataframe\">\n",
       "  <thead>\n",
       "    <tr style=\"text-align: right;\">\n",
       "      <th></th>\n",
       "      <th>year</th>\n",
       "      <th>Min</th>\n",
       "      <th>Max</th>\n",
       "      <th>Kerala_Avg_im_mm</th>\n",
       "    </tr>\n",
       "  </thead>\n",
       "  <tbody>\n",
       "    <tr>\n",
       "      <th>0</th>\n",
       "      <td>2010</td>\n",
       "      <td>Wayanad</td>\n",
       "      <td>Ernakulam</td>\n",
       "      <td>3154</td>\n",
       "    </tr>\n",
       "    <tr>\n",
       "      <th>1</th>\n",
       "      <td>2011</td>\n",
       "      <td>Thiruvananthapuram</td>\n",
       "      <td>Kozhikkod</td>\n",
       "      <td>3009</td>\n",
       "    </tr>\n",
       "    <tr>\n",
       "      <th>2</th>\n",
       "      <td>2012</td>\n",
       "      <td>Thiruvananthapuram</td>\n",
       "      <td>Kasarkod</td>\n",
       "      <td>2180</td>\n",
       "    </tr>\n",
       "    <tr>\n",
       "      <th>3</th>\n",
       "      <td>2013</td>\n",
       "      <td>Thiruvananthapuram</td>\n",
       "      <td>Idukki</td>\n",
       "      <td>3222</td>\n",
       "    </tr>\n",
       "    <tr>\n",
       "      <th>4</th>\n",
       "      <td>2014</td>\n",
       "      <td>Thiruvananthapuram</td>\n",
       "      <td>Idukki</td>\n",
       "      <td>3028</td>\n",
       "    </tr>\n",
       "    <tr>\n",
       "      <th>5</th>\n",
       "      <td>2015</td>\n",
       "      <td>Palakkad</td>\n",
       "      <td>Palakkad</td>\n",
       "      <td>2609</td>\n",
       "    </tr>\n",
       "    <tr>\n",
       "      <th>6</th>\n",
       "      <td>2016</td>\n",
       "      <td>Thiruvananthapuram</td>\n",
       "      <td>Kottayam</td>\n",
       "      <td>1885</td>\n",
       "    </tr>\n",
       "    <tr>\n",
       "      <th>7</th>\n",
       "      <td>2017</td>\n",
       "      <td>Thiruvananthapuram</td>\n",
       "      <td>Kasarkod</td>\n",
       "      <td>2680</td>\n",
       "    </tr>\n",
       "  </tbody>\n",
       "</table>\n",
       "</div>"
      ],
      "text/plain": [
       "   year                 Min        Max  Kerala_Avg_im_mm\n",
       "0  2010             Wayanad  Ernakulam              3154\n",
       "1  2011  Thiruvananthapuram  Kozhikkod              3009\n",
       "2  2012  Thiruvananthapuram   Kasarkod              2180\n",
       "3  2013  Thiruvananthapuram     Idukki              3222\n",
       "4  2014  Thiruvananthapuram     Idukki              3028\n",
       "5  2015            Palakkad   Palakkad              2609\n",
       "6  2016  Thiruvananthapuram   Kottayam              1885\n",
       "7  2017  Thiruvananthapuram   Kasarkod              2680"
      ]
     },
     "execution_count": 34,
     "metadata": {},
     "output_type": "execute_result"
    }
   ],
   "source": [
    "scores = {'year':[2010,2011,2012,2013,2014,2015,2016,2017],\n",
    "'Min':['Wayanad','Thiruvananthapuram','Thiruvananthapuram','Thiruvananthapuram','Thiruvananthapuram','Palakkad','Thiruvananthapuram','Thiruvananthapuram' ],\n",
    "          'Max':['Ernakulam','Kozhikkod','Kasarkod','Idukki','Idukki','Palakkad','Kottayam','Kasarkod' ],\n",
    "          'Kerala_Avg_im_mm':[3154,3009,2180,3222,3028,2609,1885,2680]\n",
    "}\n",
    "\n",
    "my_df = pd.DataFrame(scores)\n",
    "my_df"
   ]
  },
  {
   "cell_type": "markdown",
   "id": "e8c4ca71",
   "metadata": {},
   "source": [
    "3. Dataframe using list of dictionaries"
   ]
  },
  {
   "cell_type": "code",
   "execution_count": 35,
   "id": "cfad5e69",
   "metadata": {},
   "outputs": [
    {
     "data": {
      "text/html": [
       "<div>\n",
       "<style scoped>\n",
       "    .dataframe tbody tr th:only-of-type {\n",
       "        vertical-align: middle;\n",
       "    }\n",
       "\n",
       "    .dataframe tbody tr th {\n",
       "        vertical-align: top;\n",
       "    }\n",
       "\n",
       "    .dataframe thead th {\n",
       "        text-align: right;\n",
       "    }\n",
       "</style>\n",
       "<table border=\"1\" class=\"dataframe\">\n",
       "  <thead>\n",
       "    <tr style=\"text-align: right;\">\n",
       "      <th></th>\n",
       "      <th>year</th>\n",
       "      <th>Min</th>\n",
       "      <th>Max</th>\n",
       "      <th>Kerala_Avg_im_mm</th>\n",
       "    </tr>\n",
       "  </thead>\n",
       "  <tbody>\n",
       "    <tr>\n",
       "      <th>0</th>\n",
       "      <td>2010</td>\n",
       "      <td>Wayanad</td>\n",
       "      <td>Ernakulam</td>\n",
       "      <td>3154</td>\n",
       "    </tr>\n",
       "    <tr>\n",
       "      <th>1</th>\n",
       "      <td>2011</td>\n",
       "      <td>Thiruvananthapuram</td>\n",
       "      <td>Kozhikkod</td>\n",
       "      <td>3009</td>\n",
       "    </tr>\n",
       "    <tr>\n",
       "      <th>2</th>\n",
       "      <td>2012</td>\n",
       "      <td>Thiruvananthapuram</td>\n",
       "      <td>Kasarkod</td>\n",
       "      <td>2180</td>\n",
       "    </tr>\n",
       "    <tr>\n",
       "      <th>3</th>\n",
       "      <td>2013</td>\n",
       "      <td>Thiruvananthapuram</td>\n",
       "      <td>Idukki</td>\n",
       "      <td>3222</td>\n",
       "    </tr>\n",
       "    <tr>\n",
       "      <th>4</th>\n",
       "      <td>2014</td>\n",
       "      <td>Thiruvananthapuram</td>\n",
       "      <td>Idukki</td>\n",
       "      <td>3028</td>\n",
       "    </tr>\n",
       "    <tr>\n",
       "      <th>5</th>\n",
       "      <td>2015</td>\n",
       "      <td>Palakkad</td>\n",
       "      <td>Palakkad</td>\n",
       "      <td>2609</td>\n",
       "    </tr>\n",
       "    <tr>\n",
       "      <th>6</th>\n",
       "      <td>2016</td>\n",
       "      <td>Thiruvananthapuram</td>\n",
       "      <td>Kottayam</td>\n",
       "      <td>1885</td>\n",
       "    </tr>\n",
       "    <tr>\n",
       "      <th>7</th>\n",
       "      <td>2017</td>\n",
       "      <td>Thiruvananthapuram</td>\n",
       "      <td>Kasarkod</td>\n",
       "      <td>2680</td>\n",
       "    </tr>\n",
       "  </tbody>\n",
       "</table>\n",
       "</div>"
      ],
      "text/plain": [
       "   year                 Min        Max  Kerala_Avg_im_mm\n",
       "0  2010             Wayanad  Ernakulam              3154\n",
       "1  2011  Thiruvananthapuram  Kozhikkod              3009\n",
       "2  2012  Thiruvananthapuram   Kasarkod              2180\n",
       "3  2013  Thiruvananthapuram     Idukki              3222\n",
       "4  2014  Thiruvananthapuram     Idukki              3028\n",
       "5  2015            Palakkad   Palakkad              2609\n",
       "6  2016  Thiruvananthapuram   Kottayam              1885\n",
       "7  2017  Thiruvananthapuram   Kasarkod              2680"
      ]
     },
     "execution_count": 35,
     "metadata": {},
     "output_type": "execute_result"
    }
   ],
   "source": [
    "scores = [\n",
    "{'year':2010, 'Min': 'Wayanad','Max': 'Ernakulam','Kerala_Avg_im_mm':3154 },\n",
    "{'year':2011, 'Min': 'Thiruvananthapuram','Max': 'Kozhikkod','Kerala_Avg_im_mm':3009 },\n",
    "{'year':2012, 'Min': 'Thiruvananthapuram','Max': 'Kasarkod' ,'Kerala_Avg_im_mm':2180},\n",
    "{'year':2013, 'Min': 'Thiruvananthapuram','Max': 'Idukki','Kerala_Avg_im_mm':3222 },\n",
    "{'year':2014, 'Min': 'Thiruvananthapuram','Max': 'Idukki','Kerala_Avg_im_mm':3028 },\n",
    "    {'year':2015, 'Min': 'Palakkad','Max': 'Palakkad','Kerala_Avg_im_mm':2609 },\n",
    "    {'year':2016, 'Min': 'Thiruvananthapuram','Max': 'Kottayam','Kerala_Avg_im_mm':1885 },\n",
    "    {'year':2017, 'Min': 'Thiruvananthapuram','Max': 'Kasarkod' ,'Kerala_Avg_im_mm':2680}\n",
    "]\n",
    "my_df = pd.DataFrame(scores)\n",
    "my_df"
   ]
  },
  {
   "cell_type": "code",
   "execution_count": 36,
   "id": "6beab9b4",
   "metadata": {},
   "outputs": [
    {
     "data": {
      "text/html": [
       "<div>\n",
       "<style scoped>\n",
       "    .dataframe tbody tr th:only-of-type {\n",
       "        vertical-align: middle;\n",
       "    }\n",
       "\n",
       "    .dataframe tbody tr th {\n",
       "        vertical-align: top;\n",
       "    }\n",
       "\n",
       "    .dataframe thead th {\n",
       "        text-align: right;\n",
       "    }\n",
       "</style>\n",
       "<table border=\"1\" class=\"dataframe\">\n",
       "  <thead>\n",
       "    <tr style=\"text-align: right;\">\n",
       "      <th></th>\n",
       "      <th>year</th>\n",
       "      <th>Min</th>\n",
       "      <th>Max</th>\n",
       "      <th>Kerala_Avg_im_mm</th>\n",
       "    </tr>\n",
       "  </thead>\n",
       "  <tbody>\n",
       "    <tr>\n",
       "      <th>0</th>\n",
       "      <td>2010</td>\n",
       "      <td>Wayanad</td>\n",
       "      <td>Ernakulam</td>\n",
       "      <td>3154</td>\n",
       "    </tr>\n",
       "    <tr>\n",
       "      <th>1</th>\n",
       "      <td>2011</td>\n",
       "      <td>Thiruvananthapuram</td>\n",
       "      <td>Kozhikkod</td>\n",
       "      <td>3009</td>\n",
       "    </tr>\n",
       "    <tr>\n",
       "      <th>2</th>\n",
       "      <td>2012</td>\n",
       "      <td>Thiruvananthapuram</td>\n",
       "      <td>Kasarkod</td>\n",
       "      <td>2180</td>\n",
       "    </tr>\n",
       "    <tr>\n",
       "      <th>3</th>\n",
       "      <td>2013</td>\n",
       "      <td>Thiruvananthapuram</td>\n",
       "      <td>Idukki</td>\n",
       "      <td>3222</td>\n",
       "    </tr>\n",
       "    <tr>\n",
       "      <th>4</th>\n",
       "      <td>2014</td>\n",
       "      <td>Thiruvananthapuram</td>\n",
       "      <td>Idukki</td>\n",
       "      <td>3028</td>\n",
       "    </tr>\n",
       "    <tr>\n",
       "      <th>5</th>\n",
       "      <td>2015</td>\n",
       "      <td>Palakkad</td>\n",
       "      <td>Palakkad</td>\n",
       "      <td>2609</td>\n",
       "    </tr>\n",
       "    <tr>\n",
       "      <th>6</th>\n",
       "      <td>2016</td>\n",
       "      <td>Thiruvananthapuram</td>\n",
       "      <td>Kottayam</td>\n",
       "      <td>1885</td>\n",
       "    </tr>\n",
       "    <tr>\n",
       "      <th>7</th>\n",
       "      <td>2017</td>\n",
       "      <td>Thiruvananthapuram</td>\n",
       "      <td>Kasarkod</td>\n",
       "      <td>2680</td>\n",
       "    </tr>\n",
       "  </tbody>\n",
       "</table>\n",
       "</div>"
      ],
      "text/plain": [
       "   year                 Min        Max  Kerala_Avg_im_mm\n",
       "0  2010             Wayanad  Ernakulam              3154\n",
       "1  2011  Thiruvananthapuram  Kozhikkod              3009\n",
       "2  2012  Thiruvananthapuram   Kasarkod              2180\n",
       "3  2013  Thiruvananthapuram     Idukki              3222\n",
       "4  2014  Thiruvananthapuram     Idukki              3028\n",
       "5  2015            Palakkad   Palakkad              2609\n",
       "6  2016  Thiruvananthapuram   Kottayam              1885\n",
       "7  2017  Thiruvananthapuram   Kasarkod              2680"
      ]
     },
     "execution_count": 36,
     "metadata": {},
     "output_type": "execute_result"
    }
   ],
   "source": [
    "my_df"
   ]
  },
  {
   "cell_type": "code",
   "execution_count": 44,
   "id": "5f578fb5",
   "metadata": {},
   "outputs": [
    {
     "data": {
      "image/png": "[encoded data removed]",
      "text/plain": [
       "<Figure size 640x480 with 1 Axes>"
      ]
     },
     "metadata": {},
     "output_type": "display_data"
    }
   ],
   "source": [
    "sns.histplot(data=my_df,x='Kerala_Avg_im_mm')\n",
    "plt.show()"
   ]
  },
  {
   "cell_type": "code",
   "execution_count": null,
   "id": "ae9bf9f0",
   "metadata": {},
   "outputs": [],
   "source": []
  },
  {
   "cell_type": "code",
   "execution_count": 40,
   "id": "1e445859",
   "metadata": {},
   "outputs": [
    {
     "data": {
      "image/png": "[encoded data removed]",
      "text/plain": [
       "<Figure size 1000x500 with 2 Axes>"
      ]
     },
     "metadata": {},
     "output_type": "display_data"
    }
   ],
   "source": [
    "plt.figure(figsize=(10,5))\n",
    "#plt.xlabel('year')\n",
    "#plt.ylabel('max rain')\n",
    "#plt.title('Kerala Flood 2018')\n",
    "plt.subplot(1,2,1)\n",
    "sns.lineplot(data=my_df,x='year',y='Max')\n",
    "plt.subplot(1,2,2)\n",
    "sns.lineplot(data=my_df,x='year',y='Min')\n",
    "plt.show()"
   ]
  },
  {
   "cell_type": "code",
   "execution_count": null,
   "id": "d06e23c9",
   "metadata": {},
   "outputs": [],
   "source": []
  },
  {
   "cell_type": "code",
   "execution_count": null,
   "id": "7e9aa824",
   "metadata": {},
   "outputs": [],
   "source": []
  }
 ],
 "metadata": {
  "kernelspec": {
   "display_name": "Python 3 (ipykernel)",
   "language": "python",
   "name": "python3"
  },
  "language_info": {
   "codemirror_mode": {
    "name": "ipython",
    "version": 3
   },
   "file_extension": ".py",
   "mimetype": "text/x-python",
   "name": "python",
   "nbconvert_exporter": "python",
   "pygments_lexer": "ipython3",
   "version": "3.10.9"
  }
 },
 "nbformat": 4,
 "nbformat_minor": 5
}
